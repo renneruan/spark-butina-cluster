{
 "cells": [
  {
   "cell_type": "code",
   "execution_count": 8,
   "metadata": {},
   "outputs": [],
   "source": [
    "import findspark\n",
    "import pandas as pd\n",
    "import numpy as np\n",
    "from pyspark import SparkContext, SparkConf\n",
    "from pyspark.sql import SparkSession"
   ]
  },
  {
   "cell_type": "code",
   "execution_count": 2,
   "metadata": {},
   "outputs": [
    {
     "name": "stderr",
     "output_type": "stream",
     "text": [
      "----------------------------------------\n",
      "Exception occurred during processing of request from ('127.0.0.1', 54692)\n",
      "Traceback (most recent call last):\n",
      "  File \"c:\\Users\\renne\\anaconda3\\envs\\handbook\\Lib\\socketserver.py\", line 317, in _handle_request_noblock\n",
      "    self.process_request(request, client_address)\n",
      "  File \"c:\\Users\\renne\\anaconda3\\envs\\handbook\\Lib\\socketserver.py\", line 348, in process_request\n",
      "    self.finish_request(request, client_address)\n",
      "  File \"c:\\Users\\renne\\anaconda3\\envs\\handbook\\Lib\\socketserver.py\", line 361, in finish_request\n",
      "    self.RequestHandlerClass(request, client_address, self)\n",
      "  File \"c:\\Users\\renne\\anaconda3\\envs\\handbook\\Lib\\socketserver.py\", line 755, in __init__\n",
      "    self.handle()\n",
      "  File \"c:\\Users\\renne\\anaconda3\\envs\\handbook\\Lib\\site-packages\\pyspark\\accumulators.py\", line 295, in handle\n",
      "    poll(accum_updates)\n",
      "  File \"c:\\Users\\renne\\anaconda3\\envs\\handbook\\Lib\\site-packages\\pyspark\\accumulators.py\", line 267, in poll\n",
      "    if self.rfile in r and func():\n",
      "                           ^^^^^^\n",
      "  File \"c:\\Users\\renne\\anaconda3\\envs\\handbook\\Lib\\site-packages\\pyspark\\accumulators.py\", line 271, in accum_updates\n",
      "    num_updates = read_int(self.rfile)\n",
      "                  ^^^^^^^^^^^^^^^^^^^^\n",
      "  File \"c:\\Users\\renne\\anaconda3\\envs\\handbook\\Lib\\site-packages\\pyspark\\serializers.py\", line 594, in read_int\n",
      "    length = stream.read(4)\n",
      "             ^^^^^^^^^^^^^^\n",
      "  File \"c:\\Users\\renne\\anaconda3\\envs\\handbook\\Lib\\socket.py\", line 706, in readinto\n",
      "    return self._sock.recv_into(b)\n",
      "           ^^^^^^^^^^^^^^^^^^^^^^^\n",
      "ConnectionResetError: [WinError 10054] Foi forçado o cancelamento de uma conexão existente pelo host remoto\n",
      "----------------------------------------\n"
     ]
    }
   ],
   "source": [
    "findspark.init()\n",
    "sc = SparkContext(\"local\")"
   ]
  },
  {
   "cell_type": "code",
   "execution_count": 4,
   "metadata": {},
   "outputs": [],
   "source": [
    "# Input List\n",
    "my_list = [1, 2, 3, 4, 5]\n",
    "\n",
    "\n",
    "def execute_a_complex_function(a):\n",
    "    return a**2\n",
    "\n",
    "\n",
    "# New function execution\n",
    "mapped_rdd = sc.parallelize(my_list).map(\n",
    "    lambda element: execute_a_complex_function(element)\n",
    ")\n",
    "output_list = mapped_rdd.collect()"
   ]
  },
  {
   "cell_type": "code",
   "execution_count": null,
   "metadata": {},
   "outputs": [
    {
     "data": {
      "text/plain": [
       "array([0, 1, 1, 0, 1, 1, 0, 1, 0, 0, 0, 1, 0, 1, 0, 0, 0, 1, 1, 0, 0, 0,\n",
       "       0, 1, 1, 0, 0, 1, 1, 1, 0, 1, 0, 0, 0, 1, 0, 0, 0, 1, 0, 0, 0, 1,\n",
       "       1, 0, 0, 0, 1, 0, 1, 0, 0, 0, 1, 0, 0, 0, 0, 0, 1, 0, 1, 1, 0, 0,\n",
       "       0, 0, 0, 1, 0, 1, 0, 0, 1, 1, 1, 0, 1, 0, 0, 0, 1, 0, 1, 1, 1, 1,\n",
       "       1, 0, 0, 0, 0, 1, 0, 1, 1, 0, 0, 0, 0, 0, 1, 1, 0, 0, 1, 0, 1, 1,\n",
       "       1, 0, 1, 0, 1, 0, 0, 0, 0, 1, 0, 0, 1, 0, 1, 0, 0, 1, 1, 1, 1, 0,\n",
       "       0, 0, 1, 0, 1, 0, 1, 0, 1, 0, 1, 1, 0, 1, 0, 0, 1, 0, 1, 1, 1, 1,\n",
       "       1, 1, 0, 1, 1, 0, 1, 1, 0, 0, 1, 0])"
      ]
     },
     "execution_count": 14,
     "metadata": {},
     "output_type": "execute_result"
    }
   ],
   "source": [
    "num_elements = 10\n",
    "fingerprint_dimension = 166\n",
    "\n",
    "array = np.random.randint(2, size=(num_elements, fingerprint_dimension))"
   ]
  },
  {
   "cell_type": "code",
   "execution_count": null,
   "metadata": {},
   "outputs": [],
   "source": [
    "class ButinaClusterizer:\n",
    "    def __init__(self, input_points, distance_cutoff):\n",
    "        self.input_points = input_points\n",
    "        self.distance_cutoff = distance_cutoff\n",
    "        self.input_size = self.input_points.shape[0]\n",
    "\n",
    "        self.neighbours = None\n",
    "        self.sorted_top_neighbours = None\n",
    "\n",
    "        self.__initialize_neighbours_list()\n",
    "        self.__build_neighbours_list()\n",
    "        self.__sort_neighbours()\n",
    "        self.__create_cluster()\n",
    "\n",
    "    def __calculate_distance(self):\n",
    "        # np.random.seed(7)\n",
    "\n",
    "        return np.random.random_sample()\n",
    "\n",
    "    def __initialize_neighbours_list(self):\n",
    "        self.neighbours = np.empty(self.input_size, dtype=object)\n",
    "        self.neighbours = [[] for _ in range(self.input_size)]\n",
    "\n",
    "    def __build_neighbours_list(self):\n",
    "        for i in range(self.input_size):\n",
    "            for j in range(i):\n",
    "                distance = self.__calculate_distance()\n",
    "\n",
    "                if distance <= self.distance_cutoff:\n",
    "                    self.neighbours[i].append(j)\n",
    "                    self.neighbours[j].append(i)\n",
    "\n",
    "    def __sort_neighbours(self):\n",
    "        self.top_neighbours = []\n",
    "        for i, array in enumerate(self.neighbours):\n",
    "            self.top_neighbours.append((i, len(array)))\n",
    "        self.sorted_top_neighbours = sorted(self.top_neighbours, key=lambda x: x[1])\n",
    "        self.sorted_top_neighbours.reverse()\n",
    "\n",
    "    def __create_cluster(self):\n",
    "        already_used = np.full(self.input_size, False, dtype=bool)\n",
    "\n",
    "        self.clusters = []\n",
    "        while self.sorted_top_neighbours:\n",
    "            print(self.sorted_top_neighbours)\n",
    "            centroid_index, _ = self.sorted_top_neighbours.pop(0)\n",
    "            if not already_used[centroid_index]:\n",
    "                cluster_list = []\n",
    "\n",
    "                for neighbour_index in self.neighbours[centroid_index]:\n",
    "                    if not already_used[neighbour_index]:\n",
    "                        cluster_list.append(neighbour_index)\n",
    "\n",
    "                        already_used[neighbour_index] = True\n",
    "\n",
    "                self.clusters.append((centroid_index, cluster_list))\n",
    "\n",
    "        print(self.clusters)"
   ]
  },
  {
   "cell_type": "code",
   "execution_count": 83,
   "metadata": {},
   "outputs": [
    {
     "name": "stdout",
     "output_type": "stream",
     "text": [
      "[[2, 4, 6, 7, 8, 9], [4, 5, 6, 8], [0, 4, 5, 8, 9], [5, 6, 7, 8, 9], [0, 1, 2, 8, 9], [1, 2, 3, 8], [0, 1, 3, 9], [0, 3, 9], [0, 1, 2, 3, 4, 5], [0, 2, 3, 4, 6, 7]]\n",
      "[(9, 6), (8, 6), (0, 6), (4, 5), (3, 5), (2, 5), (6, 4), (5, 4), (1, 4), (7, 3)]\n",
      "[False False False False False False False False False False]\n",
      "[(9, 6), (8, 6), (0, 6), (4, 5), (3, 5), (2, 5), (6, 4), (5, 4), (1, 4), (7, 3)]\n",
      "[(9, 6), (8, 6), (0, 6), (4, 5), (3, 5), (2, 5), (6, 4), (5, 4), (1, 4), (7, 3)]\n",
      "[(8, 6), (0, 6), (4, 5), (3, 5), (2, 5), (6, 4), (5, 4), (1, 4), (7, 3)]\n",
      "[(0, 6), (4, 5), (3, 5), (2, 5), (6, 4), (5, 4), (1, 4), (7, 3)]\n",
      "[(4, 5), (3, 5), (2, 5), (6, 4), (5, 4), (1, 4), (7, 3)]\n",
      "[(3, 5), (2, 5), (6, 4), (5, 4), (1, 4), (7, 3)]\n",
      "[(2, 5), (6, 4), (5, 4), (1, 4), (7, 3)]\n",
      "[(6, 4), (5, 4), (1, 4), (7, 3)]\n",
      "[(5, 4), (1, 4), (7, 3)]\n",
      "[(1, 4), (7, 3)]\n",
      "[(7, 3)]\n",
      "[(9, [0, 2, 3, 4, 6, 7]), (8, [1, 5])]\n"
     ]
    }
   ],
   "source": [
    "teste = ButinaClusterizer(array, 0.5)"
   ]
  }
 ],
 "metadata": {
  "kernelspec": {
   "display_name": "handbook",
   "language": "python",
   "name": "python3"
  },
  "language_info": {
   "codemirror_mode": {
    "name": "ipython",
    "version": 3
   },
   "file_extension": ".py",
   "mimetype": "text/x-python",
   "name": "python",
   "nbconvert_exporter": "python",
   "pygments_lexer": "ipython3",
   "version": "3.11.7"
  }
 },
 "nbformat": 4,
 "nbformat_minor": 2
}
